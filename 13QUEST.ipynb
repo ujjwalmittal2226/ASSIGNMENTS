{
 "cells": [
  {
   "cell_type": "markdown",
   "id": "6fdba688",
   "metadata": {},
   "source": [
    "Q1. User will input (3ages).Find the oldest one\n"
   ]
  },
  {
   "cell_type": "code",
   "execution_count": 1,
   "id": "c6490a82",
   "metadata": {},
   "outputs": [
    {
     "name": "stdout",
     "output_type": "stream",
     "text": [
      "Enter first  age: 45\n",
      "enter second  age: 12\n",
      "enter third age: 32\n",
      "a older one\n"
     ]
    }
   ],
   "source": [
    "a=int(input(\"Enter first  age: \"))\n",
    "b=int(input(\"enter second  age: \"))\n",
    "c=int(input(\"enter third age: \"))\n",
    "if a>b and a>c:\n",
    "    print(\"a older one\")\n",
    "elif b>a and b>c:\n",
    "    print(\"b older\")\n",
    "else:\n",
    "    print(\"c'is older one\") "
   ]
  },
  {
   "cell_type": "markdown",
   "id": "42afec61",
   "metadata": {},
   "source": [
    "Q2. Write a program that will convert celsius value to fahrenheit\n"
   ]
  },
  {
   "cell_type": "code",
   "execution_count": 2,
   "id": "436125d6",
   "metadata": {},
   "outputs": [
    {
     "name": "stdout",
     "output_type": "stream",
     "text": [
      "Enter temperature in celius56\n",
      "132.8\n"
     ]
    }
   ],
   "source": [
    "temp=int(input(\"Enter temperature in celius\"))\n",
    "fer = ((temp *(9/5))+32)\n",
    "print(fer)"
   ]
  },
  {
   "cell_type": "markdown",
   "id": "57278859",
   "metadata": {},
   "source": [
    "Q3. User will input (2numbers).Write a program to swap the numbers\n"
   ]
  },
  {
   "cell_type": "code",
   "execution_count": 3,
   "id": "74ac02c1",
   "metadata": {},
   "outputs": [
    {
     "name": "stdout",
     "output_type": "stream",
     "text": [
      "Enter first number:45\n",
      "Enter first number:5\n",
      "After swaping the a  5\n",
      "After swpping b  45\n"
     ]
    }
   ],
   "source": [
    "a=int(input(\"Enter first number:\"))\n",
    "b=int(input(\"Enter first number:\"))\n",
    "k=a\n",
    "a=b#by third variabe also done by a,b=b,a \n",
    "b=k\n",
    "print(\"After swaping the a \",a)\n",
    "print(\"After swpping b \",b)"
   ]
  },
  {
   "cell_type": "markdown",
   "id": "50d91695",
   "metadata": {},
   "source": [
    "Q4. Write a program that will give you the sum of 3 digits"
   ]
  },
  {
   "cell_type": "code",
   "execution_count": 4,
   "id": "ebc77d99",
   "metadata": {},
   "outputs": [
    {
     "name": "stdout",
     "output_type": "stream",
     "text": [
      "Enter 3 digit number for sum: 321\n",
      "The sum of 3 number is : 6\n"
     ]
    }
   ],
   "source": [
    "a=int(input(\"Enter 3 digit number for sum: \"))\n",
    "a1=a%10\n",
    "a2=a%100//10\n",
    "a3=a%1000//100\n",
    "\n",
    "print(\"The sum of 3 number is :\",a1+a2+a3)\n",
    "    "
   ]
  },
  {
   "cell_type": "markdown",
   "id": "9cdd6411",
   "metadata": {},
   "source": [
    "Q5. Write a program that will reverse a four digit number.Also it checks whether the reverse is true.\n"
   ]
  },
  {
   "cell_type": "code",
   "execution_count": 5,
   "id": "2e8fa52d",
   "metadata": {},
   "outputs": [
    {
     "name": "stdout",
     "output_type": "stream",
     "text": [
      "Enter 4 digit number for sum: 4568\n",
      "reverse of the number 8654\n",
      "False both number is not equal\n"
     ]
    }
   ],
   "source": [
    "a=int(input(\"Enter 4 digit number for sum: \"))\n",
    "a1=a%10 \n",
    "a=a//10\n",
    "a2=a%10\n",
    "a=a//10\n",
    "a3=a%10\n",
    "a4=a//10 #//it gave only integer as output\n",
    "rev=a1*1000+a2*100+a3*10+a4\n",
    "\n",
    "print(\"reverse of the number\",rev)\n",
    "if a==rev:\n",
    "    print(\"True both number is equal\")\n",
    "else:\n",
    "    print(\"False both number is not equal\")"
   ]
  },
  {
   "cell_type": "markdown",
   "id": "37a22b11",
   "metadata": {},
   "source": [
    "Q6. Write a program that will tell whether the number entered by the user is odd or even."
   ]
  },
  {
   "cell_type": "code",
   "execution_count": 6,
   "id": "9d515412",
   "metadata": {},
   "outputs": [
    {
     "name": "stdout",
     "output_type": "stream",
     "text": [
      "Enter 4 digit number for sum: 452\n",
      "The number is the even\n"
     ]
    }
   ],
   "source": [
    "a=int(input(\"Enter 4 digit number for sum: \"))\n",
    "if a%2==0:\n",
    "    print(\"The number is the even\")\n",
    "else:\n",
    "    print(\"this is the odd  number\")"
   ]
  },
  {
   "cell_type": "markdown",
   "id": "fa35ac97",
   "metadata": {},
   "source": [
    "Q7. Write a program that will tell whether the given year is a leap year or no"
   ]
  },
  {
   "cell_type": "code",
   "execution_count": 7,
   "id": "b24a89d3",
   "metadata": {},
   "outputs": [
    {
     "name": "stdout",
     "output_type": "stream",
     "text": [
      "Enter year to check it : 4442\n",
      "not a leap year 4442\n"
     ]
    }
   ],
   "source": [
    "e=int(input(\"Enter year to check it : \"))\n",
    "if(e%4==0 and e%100!=0):\n",
    "    print(\"this is a leap year\",e)\n",
    "elif(e%400==0 and e%100==0):\n",
    "    print(\"this is a leap year\",e)\n",
    "else:\n",
    "    print(\"not a leap year\",e)"
   ]
  },
  {
   "cell_type": "markdown",
   "id": "a5b5ec52",
   "metadata": {},
   "source": [
    "Q8. Write a program to find the euclidean distance between two coordinates."
   ]
  },
  {
   "cell_type": "code",
   "execution_count": 8,
   "id": "c5330f6b",
   "metadata": {},
   "outputs": [
    {
     "name": "stdout",
     "output_type": "stream",
     "text": [
      "Enter the x cordinate of first variable45\n",
      "Enter the x cordinate of second variable55\n",
      "Enter the y cordinate of first variable12\n",
      "Enter the y cordinate of first variable4\n",
      "12.806248474865697\n"
     ]
    }
   ],
   "source": [
    "import math\n",
    "x1=int(input(\"Enter the x cordinate of first variable\"))\n",
    "x2=int(input(\"Enter the x cordinate of second variable\"))\n",
    "y1=int(input(\"Enter the y cordinate of first variable\"))\n",
    "y2=int(input(\"Enter the y cordinate of first variable\"))\n",
    "d=(((x2-x1)**2)+((y2-y1)**2))\n",
    "e=math.sqrt(d)\n",
    "print(e)\n",
    "       \n"
   ]
  },
  {
   "cell_type": "markdown",
   "id": "cf054098",
   "metadata": {},
   "source": [
    "Q9. Write a program that take a user inputr of three angles and will find out whether it can form a triangle or not"
   ]
  },
  {
   "cell_type": "code",
   "execution_count": 9,
   "id": "977b3d3e",
   "metadata": {},
   "outputs": [
    {
     "name": "stdout",
     "output_type": "stream",
     "text": [
      "Enter the  of first angle45\n",
      "Enter the  of second angle45\n",
      "Enter the of third angle90\n",
      " yes it is triange \n"
     ]
    }
   ],
   "source": [
    "x1=int(input(\"Enter the  of first angle\"))\n",
    "x2=int(input(\"Enter the  of second angle\"))\n",
    "x3=int(input(\"Enter the of third angle\"))\n",
    "if((x1+x2+x3)==180):\n",
    "    print(\" yes it is triange \")\n",
    "else:\n",
    "    print(\"not it is a triangle\")"
   ]
  },
  {
   "cell_type": "markdown",
   "id": "a950f000",
   "metadata": {},
   "source": [
    "Q10. Write a program that will take user input of cost price and selling price and determines whether its a loss or a profit."
   ]
  },
  {
   "cell_type": "code",
   "execution_count": 10,
   "id": "ed982331",
   "metadata": {},
   "outputs": [
    {
     "name": "stdout",
     "output_type": "stream",
     "text": [
      "Enter the selling prce45\n",
      "enter the cost price60\n",
      "loss is 15\n"
     ]
    }
   ],
   "source": [
    "sp=int(input(\"Enter the selling prce\"))\n",
    "cp=int(input(\"enter the cost price\"))\n",
    "pr = sp-cp\n",
    "lo=cp-sp\n",
    "if(pr>lo):\n",
    "    print(\"Profit is \",pr)\n",
    "else:\n",
    "    print(\"loss is\",lo)\n"
   ]
  },
  {
   "cell_type": "markdown",
   "id": "42664773",
   "metadata": {},
   "source": [
    "Q11.Write a program to find the simple interest when the value of principle,rate of interest and time period is given."
   ]
  },
  {
   "cell_type": "code",
   "execution_count": 12,
   "id": "a2e2a6f5",
   "metadata": {},
   "outputs": [
    {
     "name": "stdout",
     "output_type": "stream",
     "text": [
      "Enter the value of principal100000\n",
      "Enter the rate of interest20\n",
      "Enter the time period2\n",
      "Interest is  40000.0\n",
      "total amount is  140000.0\n"
     ]
    }
   ],
   "source": [
    "prin=int(input(\"Enter the value of principal\"))\n",
    "rate=int(input(\"Enter the rate of interest\"))\n",
    "time=int(input(\"Enter the time period\"))\n",
    "si=((prin*rate*time)/100)\n",
    "total=prin+si\n",
    "print(\"Interest is \",si)\n",
    "print(\"total amount is \",total)"
   ]
  },
  {
   "cell_type": "markdown",
   "id": "5996ea1a",
   "metadata": {},
   "source": [
    "Q12.Write a program to find the volume of the cylinder. Also find the cost when ,when the cost of 1litre milk is 40Rs.\n"
   ]
  },
  {
   "cell_type": "code",
   "execution_count": 14,
   "id": "9b501c80",
   "metadata": {},
   "outputs": [
    {
     "name": "stdout",
     "output_type": "stream",
     "text": [
      "Enter the radius of cylinder10\n",
      "enter the cost of 1 litre:40\n",
      "Enter the height of cylinder10\n",
      "the volume of cylinder  3140.0\n",
      "the cost per litre 125600.0\n"
     ]
    }
   ],
   "source": [
    "rad=int(input(\"Enter the radius of cylinder\"))\n",
    "cost=int(input(\"enter the cost of 1 litre:\"))\n",
    "height=int(input(\"Enter the height of cylinder\"))\n",
    "volume=(3.14*rad*rad*height)\n",
    "cost=volume*cost\n",
    "print(\"the volume of cylinder \",volume)\n",
    "print(\"the cost per litre\",cost)"
   ]
  },
  {
   "cell_type": "markdown",
   "id": "bb13bb55",
   "metadata": {},
   "source": [
    "Q13.Write  a program that will tell whether the given number is divisible by 3 & 6."
   ]
  },
  {
   "cell_type": "code",
   "execution_count": 17,
   "id": "220253bf",
   "metadata": {},
   "outputs": [
    {
     "name": "stdout",
     "output_type": "stream",
     "text": [
      "Enter your number96\n",
      "Yes it is divisible\n"
     ]
    }
   ],
   "source": [
    "number=int(input(\"Enter your number\"))\n",
    "if(number%3==0 and number%6==0):\n",
    "    print(\"Yes it is divisible\")\n",
    "else:\n",
    "    print(\"Not divisible\")"
   ]
  },
  {
   "cell_type": "code",
   "execution_count": null,
   "id": "eeddae83",
   "metadata": {},
   "outputs": [],
   "source": []
  }
 ],
 "metadata": {
  "kernelspec": {
   "display_name": "Python 3 (ipykernel)",
   "language": "python",
   "name": "python3"
  },
  "language_info": {
   "codemirror_mode": {
    "name": "ipython",
    "version": 3
   },
   "file_extension": ".py",
   "mimetype": "text/x-python",
   "name": "python",
   "nbconvert_exporter": "python",
   "pygments_lexer": "ipython3",
   "version": "3.10.9"
  }
 },
 "nbformat": 4,
 "nbformat_minor": 5
}
