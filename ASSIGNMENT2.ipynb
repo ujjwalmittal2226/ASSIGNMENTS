{
 "cells": [
  {
   "cell_type": "markdown",
   "id": "b85c08e9",
   "metadata": {},
   "source": [
    "ASSIGNMNET 2 "
   ]
  },
  {
   "cell_type": "markdown",
   "id": "b6a1344d",
   "metadata": {},
   "source": [
    "Q1. Taking Input marks from users & gave grade if marks is greater than 90, then if marks>80 marks<90 then gave grade b."
   ]
  },
  {
   "cell_type": "code",
   "execution_count": 2,
   "id": "37caa076",
   "metadata": {},
   "outputs": [
    {
     "name": "stdout",
     "output_type": "stream",
     "text": [
      "enter your marks45\n",
      "Your Grade is D\n"
     ]
    }
   ],
   "source": [
    "\n",
    "\n",
    "marks = int(input(\"enter your marks\"))\n",
    "if marks >90:\n",
    "    print (\"Your Grade is A\")\n",
    "elif marks >80 and marks <=90 :\n",
    "    print(\"Your Grade is B\")\n",
    "elif marks >=60 and marks <=80 :\n",
    "    print(\"Your Grade is C\")\n",
    "else :\n",
    "    print(\"Your Grade is D\")\n",
    "\n"
   ]
  },
  {
   "cell_type": "markdown",
   "id": "3bd33758",
   "metadata": {},
   "source": [
    "Q2. Taking input from user the price of bike, and then check if -\n",
    "price>1L - roadtax is 15%.\n",
    "price is between 50000 and 1L-roadtax is 10%.\n",
    "then others the price - roadtax is 5%.\n"
   ]
  },
  {
   "cell_type": "code",
   "execution_count": null,
   "id": "eda3c9d5",
   "metadata": {},
   "outputs": [],
   "source": [
    "\n",
    "\n",
    "price = int(input(\"enter the price of bike \"))\n",
    "tax=0\n",
    "if price >100000 :\n",
    "    \n",
    "    print (\"Your road tax is 15%\")\n",
    "    tax=price*0.15\n",
    "elif price >50000 and price <100000 :\n",
    "    print(\"Your road tax is 10%\")\n",
    "    tax=price*0.10\n",
    "else :\n",
    "    print(\"Your road tax is 5%\")\n",
    "    tax=price*0.05\n",
    "price=price+tax\n",
    "\n",
    "print(price)\n"
   ]
  },
  {
   "cell_type": "markdown",
   "id": "0974580c",
   "metadata": {},
   "source": [
    "Q3. Accept any city from user and display monument of that city.\n",
    "city-- monument\n",
    "delhi-Red Fort\n",
    "agra-Taj Mahal\n",
    "jaipur-Jal Mahal"
   ]
  },
  {
   "cell_type": "code",
   "execution_count": 11,
   "id": "d5768a8c",
   "metadata": {},
   "outputs": [
    {
     "name": "stdout",
     "output_type": "stream",
     "text": [
      "enter your cityDelhi\n",
      "Monument of your city is Red Fort\n"
     ]
    }
   ],
   "source": [
    "\n",
    "\n",
    "city = input(\"enter your city\")\n",
    "if city == \"Delhi\" :\n",
    "    print(\"Monument of your city is Red Fort\")\n",
    "elif city == \"Agra\" :\n",
    "    print(\"Monument of your city is Tajmahal\")\n",
    "elif city == \"Jaipur\":\n",
    "    print(\"Monument of your city is Jal Mahal\")\n",
    "else:\n",
    "    print(\"You are belong to different state\")\n",
    "    \n",
    "\n"
   ]
  },
  {
   "cell_type": "markdown",
   "id": "cf743dde",
   "metadata": {},
   "source": [
    "Q4. Check how many times a given numbercan divisible by3 before it is less than or equal to 10."
   ]
  },
  {
   "cell_type": "code",
   "execution_count": 25,
   "id": "b830dfab",
   "metadata": {},
   "outputs": [
    {
     "name": "stdout",
     "output_type": "stream",
     "text": [
      "Enter the nmbers greater than 3: 243\n",
      "4\n"
     ]
    }
   ],
   "source": [
    "num=int(input(\"Enter the nmbers greater than 3: \"))\n",
    "count=0\n",
    "while num>3:\n",
    "    num=num/3\n",
    "#    print(count)\n",
    "    count+=1\n",
    "print(count)"
   ]
  },
  {
   "cell_type": "markdown",
   "id": "25aaeefb",
   "metadata": {},
   "source": [
    "Q5. Why & when to use while loop in python give an discription with example?\n"
   ]
  },
  {
   "cell_type": "code",
   "execution_count": 28,
   "id": "7511f1a0",
   "metadata": {},
   "outputs": [
    {
     "data": {
      "text/plain": [
       "'Ans => Python while loop is used to run a block code until a certain condition is met.\\n      The syntax of while loop is:\\n      while condition:\\n      # body of while loop\\n      Here,\\n      A while loop evaluates the condition\\n      If the condition evaluates to True, the code inside the while loop is executed.\\n      condition is evaluated again.\\n      This process continues until the condition is False.\\n      When condition evaluates to False, the loop stops'"
      ]
     },
     "execution_count": 28,
     "metadata": {},
     "output_type": "execute_result"
    }
   ],
   "source": [
    "\n",
    "\n",
    "'''Ans => Python while loop is used to run a block code until a certain condition is met.\n",
    "      The syntax of while loop is:\n",
    "      while condition:\n",
    "      # body of while loop\n",
    "      Here,\n",
    "      A while loop evaluates the condition\n",
    "      If the condition evaluates to True, the code inside the while loop is executed.\n",
    "      condition is evaluated again.\n",
    "      This process continues until the condition is False.\n",
    "      When condition evaluates to False, the loop stops'''\n",
    "\n"
   ]
  },
  {
   "cell_type": "markdown",
   "id": "1cb59186",
   "metadata": {},
   "source": [
    "Q6. Use nested  while loop to print 3 differnt patterns.\n"
   ]
  },
  {
   "cell_type": "code",
   "execution_count": 31,
   "id": "79810172",
   "metadata": {},
   "outputs": [
    {
     "name": "stdout",
     "output_type": "stream",
     "text": [
      "*\n",
      "**\n",
      "***\n",
      "****\n",
      "*****\n",
      "-----\n",
      "\n",
      "*****\n",
      "****\n",
      "***\n",
      "**\n",
      "*\n",
      "-----\n",
      "\n",
      "    *\n",
      "   **\n",
      "  ***\n",
      " ****\n",
      "*****\n"
     ]
    }
   ],
   "source": [
    "# Pattern 1:\n",
    "i = 1\n",
    "while i <= 5:\n",
    "    j = 1\n",
    "    while j <= i:\n",
    "        print(\"*\", end=\"\")\n",
    "        j += 1\n",
    "    print(\"\")\n",
    "    i += 1\n",
    "    \n",
    "print(\"-----\\n\")\n",
    "# Pattern 2:\n",
    "i = 5\n",
    "while i >= 1:\n",
    "    j = i\n",
    "    while j >= 1:\n",
    "        print(\"*\", end=\"\")\n",
    "        j -= 1\n",
    "    print(\"\")\n",
    "    i -= 1\n",
    "\n",
    "print(\"-----\\n\")\n",
    "# Pattern 3:\n",
    "i = 5\n",
    "while i >= 1:\n",
    "    j = 1\n",
    "    while j <= 5:\n",
    "        if j >= i:\n",
    "            print(\"*\", end=\"\")\n",
    "        else:\n",
    "            print(\" \", end=\"\")\n",
    "        j += 1\n",
    "    print(\"\")\n",
    "    i -= 1"
   ]
  },
  {
   "cell_type": "markdown",
   "id": "e5f6c10d",
   "metadata": {},
   "source": [
    "Q7. Reverse a while loop to display number from 10 to 1?"
   ]
  },
  {
   "cell_type": "code",
   "execution_count": 32,
   "id": "e08c0115",
   "metadata": {},
   "outputs": [
    {
     "name": "stdout",
     "output_type": "stream",
     "text": [
      "10\n",
      "9\n",
      "8\n",
      "7\n",
      "6\n",
      "5\n",
      "4\n",
      "3\n",
      "2\n",
      "1\n"
     ]
    }
   ],
   "source": [
    "j=10\n",
    "while j>0:\n",
    "    print(j)\n",
    "    j=j-1"
   ]
  },
  {
   "cell_type": "code",
   "execution_count": null,
   "id": "fa2f971d",
   "metadata": {},
   "outputs": [],
   "source": []
  }
 ],
 "metadata": {
  "kernelspec": {
   "display_name": "Python 3 (ipykernel)",
   "language": "python",
   "name": "python3"
  },
  "language_info": {
   "codemirror_mode": {
    "name": "ipython",
    "version": 3
   },
   "file_extension": ".py",
   "mimetype": "text/x-python",
   "name": "python",
   "nbconvert_exporter": "python",
   "pygments_lexer": "ipython3",
   "version": "3.10.9"
  }
 },
 "nbformat": 4,
 "nbformat_minor": 5
}
